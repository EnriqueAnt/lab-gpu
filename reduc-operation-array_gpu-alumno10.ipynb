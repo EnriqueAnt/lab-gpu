{
 "cells": [
  {
   "cell_type": "markdown",
   "id": "f942d288-be01-42cd-9b84-83529c6769be",
   "metadata": {},
   "source": [
    "## Reduction operation: the sum of the numbers in the range [0, value)"
   ]
  },
  {
   "cell_type": "code",
   "execution_count": 1,
   "id": "496946fa-2a28-4c1d-8a6a-2ee0b8fd8ced",
   "metadata": {},
   "outputs": [
    {
     "name": "stdout",
     "output_type": "stream",
     "text": [
      "Time taken by reduction operation using a function: 2.62 ms ± 8.27 µs per loop (mean ± std. dev. of 2 runs, 100 loops each)\n",
      "And the result of the sum of numbers in the range [0, value) is: 24995.051343753086\n",
      "\n",
      "Time taken by reduction operation using numpy.sum(): 7.88 µs ± 8.1 ns per loop (mean ± std. dev. of 2 runs, 100,000 loops each)\n",
      "Now, the result using numpy.sum(): 24995.051343752984 \n",
      " \n",
      "Time taken by reduction operation using numpy.ndarray.sum(): 7.14 µs ± 0.478 ns per loop (mean ± std. dev. of 2 runs, 100,000 loops each)\n",
      "Now, the result using numpy.ndarray.sum(): 24995.051343752984\n"
     ]
    }
   ],
   "source": [
    "import numpy as np\n",
    "\n",
    "def reduc_operation(A):\n",
    "    \"\"\"Compute the sum of the elements of Array A in the range [0, value).\"\"\"\n",
    "    s = 0\n",
    "    for i in range(A.size):\n",
    "        s += A[i]\n",
    "    return s\n",
    "\n",
    "# Secuencial\n",
    "\n",
    "value = 5*10**4\n",
    "\n",
    "X = np.random.rand(value)\n",
    "\n",
    "# Para imprimir los pimeros valores del array\n",
    "\n",
    "# print(X[0:12])\n",
    "\n",
    "# Utilizando las operaciones mágicas de ipython\n",
    "\n",
    "tiempo = %timeit -r 2 -o -q reduc_operation(X)\n",
    "\n",
    "print(\"Time taken by reduction operation using a function:\", tiempo)\n",
    "\n",
    "\n",
    "print(f\"And the result of the sum of numbers in the range [0, value) is: {reduc_operation(X)}\\n\")\n",
    "\n",
    "\n",
    "# Utilizando numpy.sum()\n",
    "\n",
    "tiempo = %timeit -r 2 -o -q np.sum(X)\n",
    "\n",
    "print(\"Time taken by reduction operation using numpy.sum():\", tiempo)\n",
    "\n",
    "print(\"Now, the result using numpy.sum():\", np.sum(X),\"\\n \")\n",
    "\n",
    "\n",
    "# Utilizando numpy.ndarray.sum()\n",
    "\n",
    "tiempo= %timeit -r 2 -o -q X.sum()\n",
    "\n",
    "print(\"Time taken by reduction operation using numpy.ndarray.sum():\", tiempo)\n",
    "\n",
    "print(\"Now, the result using numpy.ndarray.sum():\", X.sum())\n",
    "\n",
    "\n"
   ]
  },
  {
   "cell_type": "markdown",
   "id": "63d40d4a-6bac-48f5-914c-75da96a4c3a8",
   "metadata": {},
   "source": [
    "a) Librería cupy:"
   ]
  },
  {
   "cell_type": "code",
   "execution_count": null,
   "id": "fbdc2ea5-598c-485d-8316-8d956e66502d",
   "metadata": {},
   "outputs": [],
   "source": [
    "import cupy as cp\n",
    "import time\n",
    "\n",
    "\n",
    "# Crear un array en la GPU con CuPy\n",
    "X = cp.random.rand(value)\n",
    "\n",
    "# Medir tiempo con time.time()\n",
    "start_time = time.time()\n",
    "result = cp.sum(X)  \n",
    "cp.cuda.Device().synchronize()  # Sincronizar la GPU\n",
    "end_time = time.time()\n",
    "print(f\"Tiempo de ejecución con cp.sum (time.time()): {end_time - start_time:.6f} segundos\")\n",
    "print(f\"Resultado de la suma con cp.sum(): {result.item()}\")  # Convertir a valor en la CPU\n",
    "\n",
    "# Medir tiempo con %timeit\n",
    "tiempo = %timeit -r 2 -o -q cp.sum(X)\n",
    "print(f\"Tiempo de ejecución con cp.sum (%timeit): {tiempo}\")\n"
   ]
  },
  {
   "cell_type": "markdown",
   "id": "7aa164fb-9446-4717-8440-e9a7b8c2bf05",
   "metadata": {},
   "source": [
    "d) comentar los reultados\n",
    "Time taken by reduction operation using a function: 2.68 ms ± 406 ns per loop (mean ± std. dev. of 2 runs, 100 loops each)\n",
    "And the result of the sum of numbers in the range [0, value) is: 25024.688486671832\n",
    "\n",
    "Time taken by reduction operation using numpy.sum(): 7.96 µs ± 1.31 ns per loop (mean ± std. dev. of 2 runs, 100,000 loops each)\n",
    "Now, the result using numpy.sum(): 25024.688486671777 \n",
    " \n",
    "Time taken by reduction operation using numpy.ndarray.sum(): 7.13 µs ± 7.07 ns per loop (mean ± std. dev. of 2 runs, 100,000 loops each)\n",
    "\n",
    "Now, the result using numpy.ndarray.sum(): 25024.688486671777\n",
    "\n",
    "Tiempo de ejecución con cp.sum (time.time()): 0.379124 segundos\n",
    "Resultado de la suma con cp.sum(): 24999.403058891185\n",
    "Tiempo de ejecución con cp.sum (%timeit): 6.41 µs ± 35.5 ns per loop (mean ± std. dev. of 2 runs, 100,000 loops each)\n",
    "\n",
    "Los resultados muestran que la GPU, al utilizar CuPy, puede realizar operaciones de reducción de manera extremadamente rápida, con un tiempo de ejecución medido con %timeit de solo una fracción de microsegundos por iteración. Este rendimiento refleja la capacidad de paralelismo masivo de la GPU, que permite manejar grandes volúmenes de datos de manera eficiente. Sin embargo, el tiempo medido con time.time() incluye la sobrecarga inicial asociada con la configuración de la GPU y la transferencia de datos entre la CPU y la GPU. Esto demuestra que, aunque la GPU es muy eficiente para la operación en sí misma, la sobrecarga puede ser significativa en tareas pequeñas.\n",
    "\n",
    "Estos resultados resaltan que para arrays pequeños, la CPU, al operar directamente en la memoria principal sin costos de transferencia, puede ser una opción más eficiente. En cambio, para tareas repetitivas o con volúmenes de datos más grandes, la GPU resulta mucho más rápida, ya que la sobrecarga inicial se distribuye y se vuelve menos relevante en relación con el tiempo total de ejecución. Esto refuerza la importancia de considerar el tamaño del problema y la naturaleza de la tarea al decidir entre CPU y GPU para optimizar el rendimiento."
   ]
  },
  {
   "cell_type": "code",
   "execution_count": null,
   "id": "313e6382-43fb-4d50-ae89-ea4ac414accd",
   "metadata": {},
   "outputs": [],
   "source": []
  }
 ],
 "metadata": {
  "kernelspec": {
   "display_name": "Python 3 (ipykernel)",
   "language": "python",
   "name": "python3"
  },
  "language_info": {
   "codemirror_mode": {
    "name": "ipython",
    "version": 3
   },
   "file_extension": ".py",
   "mimetype": "text/x-python",
   "name": "python",
   "nbconvert_exporter": "python",
   "pygments_lexer": "ipython3",
   "version": "3.8.17"
  }
 },
 "nbformat": 4,
 "nbformat_minor": 5
}

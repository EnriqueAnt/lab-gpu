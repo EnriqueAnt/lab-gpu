{
 "cells": [
  {
   "cell_type": "markdown",
   "id": "f942d288-be01-42cd-9b84-83529c6769be",
   "metadata": {},
   "source": [
    "## Reduction operation: the sum of the numbers in the range [0, value)"
   ]
  },
  {
   "cell_type": "code",
   "execution_count": 1,
   "id": "fe398b07-9f48-4023-b57a-86f7af55e604",
   "metadata": {},
   "outputs": [
    {
     "name": "stdout",
     "output_type": "stream",
     "text": [
      "Time taken by reduction operation using a function: 47.2 ms ± 5.74 µs per loop (mean ± std. dev. of 2 runs, 10 loops each)\n",
      "And the result of the sum of numbers in the range [0, value) is: 24977.637632298945\n",
      "\n",
      "Time taken by reduction operation using numpy.sum(): 95.1 µs ± 159 ns per loop (mean ± std. dev. of 2 runs, 10,000 loops each)\n",
      "Now, the result using numpy.sum(): 24977.637632298854 \n",
      " \n",
      "Time taken by reduction operation using numpy.ndarray.sum(): 76.1 µs ± 180 ns per loop (mean ± std. dev. of 2 runs, 10,000 loops each)\n",
      "Now, the result using numpy.ndarray.sum(): 24977.637632298854\n"
     ]
    }
   ],
   "source": [
    "import numpy as np\n",
    "\n",
    "def reduc_operation(A):\n",
    "    \"\"\"Compute the sum of the elements of Array A in the range [0, value).\"\"\"\n",
    "    s = 0\n",
    "    for i in range(A.size):\n",
    "        s += A[i]\n",
    "    return s\n",
    "\n",
    "# Secuencial\n",
    "\n",
    "value = 5*10**4\n",
    "\n",
    "X = np.random.rand(value)\n",
    "\n",
    "# Para imprimir los pimeros valores del array\n",
    "\n",
    "# print(X[0:12])\n",
    "\n",
    "# Utilizando las operaciones mágicas de ipython\n",
    "\n",
    "tiempo = %timeit -r 2 -o -q reduc_operation(X)\n",
    "\n",
    "print(\"Time taken by reduction operation using a function:\", tiempo)\n",
    "\n",
    "\n",
    "print(f\"And the result of the sum of numbers in the range [0, value) is: {reduc_operation(X)}\\n\")\n",
    "\n",
    "\n",
    "# Utilizando numpy.sum()\n",
    "\n",
    "tiempo = %timeit -r 2 -o -q np.sum(X)\n",
    "\n",
    "print(\"Time taken by reduction operation using numpy.sum():\", tiempo)\n",
    "\n",
    "print(\"Now, the result using numpy.sum():\", np.sum(X),\"\\n \")\n",
    "\n",
    "\n",
    "# Utilizando numpy.ndarray.sum()\n",
    "\n",
    "tiempo= %timeit -r 2 -o -q X.sum()\n",
    "\n",
    "print(\"Time taken by reduction operation using numpy.ndarray.sum():\", tiempo)\n",
    "\n",
    "print(\"Now, the result using numpy.ndarray.sum():\", X.sum())\n",
    "\n",
    "\n"
   ]
  },
  {
   "cell_type": "code",
   "execution_count": 4,
   "id": "07e17aef-900e-453f-8338-0b8c99d84a08",
   "metadata": {},
   "outputs": [],
   "source": [
    "value=5*10**7"
   ]
  },
  {
   "cell_type": "markdown",
   "id": "2e49d2c8-0452-42ed-9311-8c828b1c0204",
   "metadata": {},
   "source": [
    " a) Librería multiprocessing: "
   ]
  },
  {
   "cell_type": "code",
   "execution_count": 6,
   "id": "7988c99f-a791-4ab7-82bd-b3a37bb31989",
   "metadata": {},
   "outputs": [
    {
     "name": "stdout",
     "output_type": "stream",
     "text": [
      "Tiempo con 1 procesos: 47.9190 segundos\n",
      "Tiempo con 2 procesos: 25.6904 segundos\n",
      "Tiempo con 4 procesos: 13.3741 segundos\n"
     ]
    }
   ],
   "source": [
    "import numpy as np\n",
    "import multiprocessing\n",
    "import time\n",
    "import sys\n",
    "\n",
    "# Obtener el valor de 'value' desde los argumentos de línea de comandos\n",
    "value = int(sys.argv[1])  # Este valor se pasa desde el script de Slurm\n",
    "\n",
    "# Función poco optimizada para sumar elementos del array\n",
    "def reduc_operation(A):\n",
    "    s = 0\n",
    "    for i in range(A.size):\n",
    "        s += A[i]\n",
    "    return s\n",
    "\n",
    "# Crear el array con el tamaño especificado en 'value'\n",
    "X = np.random.rand(value)\n",
    "\n",
    "# Función para dividir el array en N partes y usar multiprocessing\n",
    "def reduc_operation_multiprocessing(n_parts, X):\n",
    "    # Dividir el array en n_parts partes\n",
    "    chunk_size = len(X) // n_parts\n",
    "    chunks = [X[i:i + chunk_size] for i in range(0, len(X), chunk_size)]\n",
    "    \n",
    "    # Usar multiprocessing Pool para realizar la operación\n",
    "    with multiprocessing.Pool(processes=n_parts) as pool:\n",
    "        results = pool.map(reduc_operation, chunks)\n",
    "    \n",
    "    # Sumar los resultados de todos los procesos\n",
    "    return sum(results)\n",
    "\n",
    "# Medir el tiempo de ejecución para diferentes números de procesos\n",
    "for n_parts in [1, 2, 4]:\n",
    "    start_time = time.time()\n",
    "    sum_result = reduc_operation_multiprocessing(n_parts, X)\n",
    "    end_time = time.time()\n",
    "    print(f\"Tiempo con {n_parts} procesos: {end_time - start_time:.4f} segundos\")\n"
   ]
  },
  {
   "cell_type": "markdown",
   "id": "8a7a93bc-e37b-4406-ba8a-0ddb48641374",
   "metadata": {},
   "source": [
    " b) Libreria Numba:"
   ]
  },
  {
   "cell_type": "code",
   "execution_count": 7,
   "id": "34842f4c-3d19-437e-988e-715765592060",
   "metadata": {},
   "outputs": [
    {
     "name": "stdout",
     "output_type": "stream",
     "text": [
      "Tiempo con @njit: 4.1207 segundos\n",
      "Tiempo con @njit(parallel=True): 3.0468 segundos\n"
     ]
    }
   ],
   "source": [
    "import numba\n",
    "from numba import njit, prange\n",
    "import numpy as np\n",
    "import sys\n",
    "import time\n",
    "\n",
    "value = int(sys.argv[1])\n",
    "\n",
    "X = np.random.rand(value)\n",
    "\n",
    "@njit\n",
    "def reduc_operation_njit(A):\n",
    "    s = 0\n",
    "    for i in range(A.size):\n",
    "        s += A[i]\n",
    "    return s\n",
    "\n",
    "@njit(parallel=True)\n",
    "def reduc_operation_njit_parallel(A):\n",
    "    s = 0\n",
    "    for i in prange(A.size):\n",
    "        s += A[i]\n",
    "    return s\n",
    "\n",
    "start_time = time.time()\n",
    "sum_njit = reduc_operation_njit(X)\n",
    "end_time = time.time()\n",
    "# Medir el tiempo de ejecución para la versión sin paralelización\n",
    "print(f\"Tiempo con @njit: {end_time - start_time:.4f} segundos\")\n",
    "\n",
    "start_time = time.time()\n",
    "sum_njit_parallel = reduc_operation_njit_parallel(X)\n",
    "end_time = time.time()\n",
    "# Medir el tiempo de ejecución para la versión con paralelización\n",
    "print(f\"Tiempo con @njit(parallel=True): {end_time - start_time:.4f} segundos\")\n",
    "\n",
    "\n"
   ]
  },
  {
   "cell_type": "markdown",
   "id": "8d160e4c-7258-43d6-bf57-80ed0b1b1776",
   "metadata": {},
   "source": [
    "Los resultados que aprecen en el propio script de notebook es de una resolucion previa, donde se introdujo el value que se observa al inicio."
   ]
  },
  {
   "cell_type": "markdown",
   "id": "c7b68e46-d8ee-4b12-a0b9-90547c118acb",
   "metadata": {},
   "source": [
    "Comparación d)\n",
    "\n",
    "Tiempo con 1 procesos: 48.4510 segundos\n",
    "Tiempo con 2 procesos: 25.6659 segundos\n",
    "Tiempo con 4 procesos: 13.3436 segundos\n",
    "\n",
    "Tiempo con @njit: 3.6187 segundos\n",
    "Tiempo con @njit(parallel=True): 3.1310 segundos\n",
    "\n",
    "Multiprocessing y Numba ofrecen dos enfoques distintos para optimizar el rendimiento de tareas computacionales, y sus diferencias son notables en los resultados obtenidos.\n",
    "\n",
    "Con multiprocessing, el tiempo de ejecución disminuye a medida que se incrementa el número de procesos, ya que la carga de trabajo se distribuye entre varios núcleos de la CPU. Sin embargo, la mejora no es completamente lineal debido a la sobrecarga generada por la gestión de procesos, como la sincronización y la transferencia de datos entre ellos. Esto puede causar cuellos de botella, especialmente si la comunicación entre procesos es intensa o si el hardware tiene limitaciones en la cantidad de núcleos disponibles.\n",
    "\n",
    "Por otro lado, Numba utiliza un enfoque diferente mediante la compilación Just-In-Time (JIT), que traduce el código Python a código máquina optimizado en tiempo de ejecución. La optimización secuencial de Numba ya es significativamente más rápida que multiprocessing debido a esta conversión directa. Cuando se activa la opción parallel=True, Numba aprovecha el paralelismo utilizando hilos en lugar de procesos. Esto reduce la sobrecarga asociada a la gestión de procesos independientes, ya que los hilos comparten el mismo espacio de memoria y no requieren la copia de datos.\n",
    "\n",
    "En resumen, mientras que multiprocessing es adecuado para dividir tareas entre múltiples núcleos, su eficiencia se ve limitada por la sobrecarga de procesos. Por su parte, Numba sobresale en tareas numéricas intensivas gracias a su capacidad de compilación y manejo eficiente del paralelismo con hilos, lo que explica su desempeño superior."
   ]
  },
  {
   "cell_type": "code",
   "execution_count": null,
   "id": "3365ce93-777a-4e9b-bf55-3c7fa713ee0f",
   "metadata": {},
   "outputs": [],
   "source": []
  },
  {
   "cell_type": "code",
   "execution_count": null,
   "id": "99a70b8f-b751-4ede-abb7-0582346e5418",
   "metadata": {},
   "outputs": [],
   "source": []
  }
 ],
 "metadata": {
  "kernelspec": {
   "display_name": "Python 3 (ipykernel)",
   "language": "python",
   "name": "python3"
  },
  "language_info": {
   "codemirror_mode": {
    "name": "ipython",
    "version": 3
   },
   "file_extension": ".py",
   "mimetype": "text/x-python",
   "name": "python",
   "nbconvert_exporter": "python",
   "pygments_lexer": "ipython3",
   "version": "3.10.9"
  }
 },
 "nbformat": 4,
 "nbformat_minor": 5
}

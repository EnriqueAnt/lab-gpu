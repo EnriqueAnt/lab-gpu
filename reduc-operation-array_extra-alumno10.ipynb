{
 "cells": [
  {
   "cell_type": "markdown",
   "id": "f942d288-be01-42cd-9b84-83529c6769be",
   "metadata": {},
   "source": [
    "## Reduction operation: the sum of the numbers in the range [0, value)"
   ]
  },
  {
   "cell_type": "code",
   "execution_count": 1,
   "id": "496946fa-2a28-4c1d-8a6a-2ee0b8fd8ced",
   "metadata": {},
   "outputs": [
    {
     "name": "stdout",
     "output_type": "stream",
     "text": [
      "Time taken by reduction operation using a function: 2.62 ms ± 8.27 µs per loop (mean ± std. dev. of 2 runs, 100 loops each)\n",
      "And the result of the sum of numbers in the range [0, value) is: 24995.051343753086\n",
      "\n",
      "Time taken by reduction operation using numpy.sum(): 7.88 µs ± 8.1 ns per loop (mean ± std. dev. of 2 runs, 100,000 loops each)\n",
      "Now, the result using numpy.sum(): 24995.051343752984 \n",
      " \n",
      "Time taken by reduction operation using numpy.ndarray.sum(): 7.14 µs ± 0.478 ns per loop (mean ± std. dev. of 2 runs, 100,000 loops each)\n",
      "Now, the result using numpy.ndarray.sum(): 24995.051343752984\n"
     ]
    }
   ],
   "source": [
    "import numpy as np\n",
    "\n",
    "def reduc_operation(A):\n",
    "    \"\"\"Compute the sum of the elements of Array A in the range [0, value).\"\"\"\n",
    "    s = 0\n",
    "    for i in range(A.size):\n",
    "        s += A[i]\n",
    "    return s\n",
    "\n",
    "# Secuencial\n",
    "\n",
    "value = 5*10**4\n",
    "\n",
    "X = np.random.rand(value)\n",
    "\n",
    "# Para imprimir los pimeros valores del array\n",
    "\n",
    "# print(X[0:12])\n",
    "\n",
    "# Utilizando las operaciones mágicas de ipython\n",
    "\n",
    "tiempo = %timeit -r 2 -o -q reduc_operation(X)\n",
    "\n",
    "print(\"Time taken by reduction operation using a function:\", tiempo)\n",
    "\n",
    "\n",
    "print(f\"And the result of the sum of numbers in the range [0, value) is: {reduc_operation(X)}\\n\")\n",
    "\n",
    "\n",
    "# Utilizando numpy.sum()\n",
    "\n",
    "tiempo = %timeit -r 2 -o -q np.sum(X)\n",
    "\n",
    "print(\"Time taken by reduction operation using numpy.sum():\", tiempo)\n",
    "\n",
    "print(\"Now, the result using numpy.sum():\", np.sum(X),\"\\n \")\n",
    "\n",
    "\n",
    "# Utilizando numpy.ndarray.sum()\n",
    "\n",
    "tiempo= %timeit -r 2 -o -q X.sum()\n",
    "\n",
    "print(\"Time taken by reduction operation using numpy.ndarray.sum():\", tiempo)\n",
    "\n",
    "print(\"Now, the result using numpy.ndarray.sum():\", X.sum())\n",
    "\n",
    "\n"
   ]
  },
  {
   "cell_type": "markdown",
   "id": "11a9a4ac-e88f-46e5-83b6-1c71fa7b8b89",
   "metadata": {},
   "source": [
    " 1. Con respecto a la librería multiprocessing"
   ]
  },
  {
   "cell_type": "code",
   "execution_count": null,
   "id": "668b19ca-423b-4a4b-98e9-2606f6497c8b",
   "metadata": {},
   "outputs": [],
   "source": [
    "import numpy as np \n",
    "import cupy as cp\n",
    "import multiprocessing\n",
    "import time\n",
    "import sys\n",
    "\n",
    "value = int(sys.argv[1])\n",
    "\n",
    "# Se modifica la función para aceptar los parámetros de inicio y fin\n",
    "def sum_multiprocessing(A, ini, fin):  # Modificada para aceptar 'ini' y 'fin'\n",
    "    s = 0\n",
    "    for i in range(ini, fin):\n",
    "        s += A[i]\n",
    "    return s\n",
    "\n",
    "X_cpu = np.random.rand(value)\n",
    "\n",
    "start_time = time.time()\n",
    "X_gpu = cp.array(X_cpu)\n",
    "\n",
    "result_gpu = cp.sum(X_gpu)\n",
    "cp.cuda.Device().synchronize()\n",
    "end_time = time.time()\n",
    "\n",
    "result_cpu = result_gpu.item()\n",
    "\n",
    "print(f\"Tiempo total incluyendo transferencia CPU-GPU y GPU-CPU: {end_time - start_time:.4f} segundos\")\n",
    "print(f\"Resultado de la suma en la GPU: {result_cpu}\")\n",
    "\n",
    "# Se cambia a la función starmap y se pasan los índices de inicio y fin para cada proceso\n",
    "def reduc_operation_multiprocessing(n_parts, X):\n",
    "    chunk_size = len(X) // n_parts\n",
    "    ranges = [(i * chunk_size, (i + 1) * chunk_size) for i in range(n_parts)]\n",
    "    ranges[-1] = (ranges[-1][0], len(X))  # Se ajusta el último rango\n",
    "    \n",
    "    # Se utiliza starmap para pasar los rangos de inicio y fin directamente\n",
    "    with multiprocessing.Pool(processes=n_parts) as pool:\n",
    "        results = pool.starmap(sum_multiprocessing, [(X, ini, fin) for ini, fin in ranges])\n",
    "    \n",
    "    return sum(results)\n",
    "\n",
    "# Se comparan los tiempos con multiprocessing en la CPU con diferentes particiones\n",
    "for n_parts in [1, 2, 4]:\n",
    "    start_time = time.time()\n",
    "    sum_result = reduc_operation_multiprocessing(n_parts, X_cpu)\n",
    "    end_time = time.time()\n",
    "    print(f\"Tiempo con {n_parts} procesos (CPU): {end_time - start_time:.4f} segundos\")\n"
   ]
  },
  {
   "cell_type": "markdown",
   "id": "cb068009-0b36-4278-9608-b03461f600a4",
   "metadata": {},
   "source": [
    "Time taken by reduction operation using a function: 2.6 ms ± 4.6 µs per loop (mean ± std. dev. of 2 runs, 100 loops each)\n",
    "And the result of the sum of numbers in the range [0, value) is: 24890.307395611457\n",
    "\n",
    "Time taken by reduction operation using numpy.sum(): 7.7 µs ± 0.631 ns per loop (mean ± std. dev. of 2 runs, 100,000 loops each)\n",
    "Now, the result using numpy.sum(): 24890.307395611533 \n",
    " \n",
    "Time taken by reduction operation using numpy.ndarray.sum(): 7.01 µs ± 48.9 ns per loop (mean ± std. dev. of 2 runs, 100,000 loops each)\n",
    "Now, the result using numpy.ndarray.sum(): 24890.307395611533\n",
    "Tiempo total incluyendo transferencia CPU-GPU y GPU-CPU: 1.1260 segundos\n",
    "Resultado de la suma en la GPU: 24998503.108807802\n",
    "Tiempo con 1 procesos (CPU): 5.8041 segundos\n",
    "Tiempo con 2 procesos (CPU): 1.9136 segundos\n",
    "Tiempo con 4 procesos (CPU): 1.7306 segundos\n",
    "\n",
    "Los resultados demuestran que el uso de múltiples procesos en la CPU acelera significativamente el tiempo de ejecución en comparación con un solo proceso, logrando una mejora considerable en la eficiencia. Al aumentar el número de procesos, se aprovechan mejor los núcleos disponibles, lo que permite realizar la tarea de suma de manera mucho más rápida. En concreto, con cuatro procesos, la ejecución es varias veces más rápida que con un solo proceso, destacando la ventaja de la paralelización en entornos de CPU con múltiples núcleos.\n",
    "\n",
    "Por otro lado, el uso de la GPU para realizar la misma operación no muestra una mejora tan significativa debido a la latencia de las transferencias de datos entre la CPU y la GPU. Aunque la GPU puede realizar cálculos más rápidos, la sobrecarga de mover los datos entre las dos memorias limita el rendimiento, haciendo que la suma en la GPU no sea tan eficiente en comparación con la paralelización de la CPU. Esto sugiere que, en tareas de reducción de datos donde los datos ya residen en la memoria de la CPU, la paralelización en la CPU podría ser más beneficiosa que el uso de la GPU, especialmente cuando se consideran las transferencias de datos."
   ]
  },
  {
   "cell_type": "code",
   "execution_count": null,
   "id": "baf470d4-3ded-49f8-b20e-97c020e3987f",
   "metadata": {},
   "outputs": [],
   "source": []
  }
 ],
 "metadata": {
  "kernelspec": {
   "display_name": "Python 3 (ipykernel)",
   "language": "python",
   "name": "python3"
  },
  "language_info": {
   "codemirror_mode": {
    "name": "ipython",
    "version": 3
   },
   "file_extension": ".py",
   "mimetype": "text/x-python",
   "name": "python",
   "nbconvert_exporter": "python",
   "pygments_lexer": "ipython3",
   "version": "3.8.17"
  }
 },
 "nbformat": 4,
 "nbformat_minor": 5
}
